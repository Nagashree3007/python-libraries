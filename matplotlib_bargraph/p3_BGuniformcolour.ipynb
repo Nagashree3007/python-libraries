{
 "cells": [
  {
   "cell_type": "markdown",
   "metadata": {},
   "source": [
    "'''\n",
    "\n",
    "@Author: Nagashree C R\n",
    "@Date: 2024-08-02\n",
    "@Last Modified by: Nagashree C R\n",
    "@Last Modified: 2024-08-02 \n",
    "@Title : Python program to display a horizontal bar chart to display a bar chart of the popularity of programming \n",
    "Languages.(Use uniform color).  \n",
    "\n",
    "'''\n"
   ]
  },
  {
   "cell_type": "code",
   "execution_count": null,
   "metadata": {},
   "outputs": [],
   "source": [
    "import matplotlib.pyplot as plt\n",
    "\n",
    "# Data for the bar chart\n",
    "programming_languages = ['Java', 'Python', 'PHP', 'JavaScript', 'C#', 'C++']\n",
    "popularity = [22.2, 17.6, 8.8, 8.0, 7.7, 6.7]\n",
    "\n",
    "# Create the bar chart\n",
    "plt.figure(figsize=(10, 6))\n",
    "plt.bar(programming_languages, popularity, color='cornflowerblue')  # Uniform color\n",
    "\n",
    "# Add titles and labels\n",
    "plt.title('Popularity of Programming Languages')\n",
    "plt.xlabel('Programming Languages')\n",
    "plt.ylabel('Popularity (%)')\n",
    "\n",
    "# Display the bar chart\n",
    "plt.show()\n"
   ]
  }
 ],
 "metadata": {
  "language_info": {
   "name": "python"
  }
 },
 "nbformat": 4,
 "nbformat_minor": 2
}
