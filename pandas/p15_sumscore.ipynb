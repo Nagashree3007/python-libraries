{
 "cells": [
  {
   "cell_type": "markdown",
   "metadata": {},
   "source": [
    "'''\n",
    "\n",
    "@Author: Nagashree C R  <br>\n",
    "@Date: 2024-08-01  <br>\n",
    "@Last Modified by: Nagashree C R <br>\n",
    "@Last Modified: 2024-08-01  <br>\n",
    "@Title :Python program to calculate the sum of the examination attempts by the students.\n",
    "\n",
    "'''"
   ]
  },
  {
   "cell_type": "code",
   "execution_count": 1,
   "metadata": {},
   "outputs": [],
   "source": [
    "import pandas as pd\n",
    "import numpy as np\n",
    "import loggingfile"
   ]
  },
  {
   "cell_type": "code",
   "execution_count": 2,
   "metadata": {},
   "outputs": [],
   "source": [
    "logger = loggingfile.logger_init(\"p15_sumscore\")"
   ]
  },
  {
   "cell_type": "code",
   "execution_count": 3,
   "metadata": {},
   "outputs": [
    {
     "name": "stderr",
     "output_type": "stream",
     "text": [
      "2024-08-01 15:16:56,248:INFO:p15_sumscore:19\n"
     ]
    }
   ],
   "source": [
    "def sum_attempts(exam_data):\n",
    "\n",
    "    \"\"\"\n",
    "\n",
    "    description:\n",
    "        This function is used to find sum of attempts in the DataFrame.\n",
    "\n",
    "\n",
    "    parameters:\n",
    "        labels(list), exam_data(dict) : exam_data that is going to frame a data frame.\n",
    "            \n",
    "    return:\n",
    "        none\n",
    "\n",
    "    \"\"\"\n",
    "    \n",
    "    sum_attempts = sum(exam_data['attempts'])\n",
    "    logger.info(sum_attempts)\n",
    "   \n",
    "    \n",
    "def main():\n",
    "    exam_data = {'name': ['Anastasia', 'Dima', 'Katherine', 'James', 'Emily', 'Michael', 'Matthew', 'Laura', 'Kevin', 'Jonas'],\n",
    "                'score': [12.5, 9, 16.5, np.nan, 9, 20, 14.5, np.nan, 8, 19],\n",
    "                'attempts': [1, 3, 2, 3, 2, 3, 1, 1, 2, 1],\n",
    "                'qualify': ['yes', 'no', 'yes', 'no', 'no', 'yes', 'yes', 'no', 'no', 'yes']}\n",
    "    labels = ['a', 'b', 'c', 'd', 'e', 'f', 'g', 'h', 'i', 'j']\n",
    "    sum_attempts(exam_data)\n",
    "\n",
    "\n",
    "if __name__ == \"__main__\":\n",
    "    main()"
   ]
  }
 ],
 "metadata": {
  "kernelspec": {
   "display_name": "Python 3",
   "language": "python",
   "name": "python3"
  },
  "language_info": {
   "codemirror_mode": {
    "name": "ipython",
    "version": 3
   },
   "file_extension": ".py",
   "mimetype": "text/x-python",
   "name": "python",
   "nbconvert_exporter": "python",
   "pygments_lexer": "ipython3",
   "version": "3.11.9"
  }
 },
 "nbformat": 4,
 "nbformat_minor": 2
}
