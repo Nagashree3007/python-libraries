{
 "cells": [
  {
   "cell_type": "markdown",
   "metadata": {},
   "source": [
    "'''\n",
    "\n",
    "@Author: Nagashree C R  <br>\n",
    "@Date: 2024-08-01  <br>\n",
    "@Last Modified by: Nagashree C R <br>\n",
    "@Last Modified: 2024-08-01  <br>\n",
    "@Title : Python program to insert a new column in existing DataFrame.\n",
    "\n",
    "'''"
   ]
  },
  {
   "cell_type": "code",
   "execution_count": 1,
   "metadata": {},
   "outputs": [],
   "source": [
    "import pandas as pd\n",
    "import numpy as np\n",
    "import loggingfile"
   ]
  },
  {
   "cell_type": "code",
   "execution_count": 2,
   "metadata": {},
   "outputs": [],
   "source": [
    "logger = loggingfile.logger_init(\"p21_appendcoloumn\")"
   ]
  },
  {
   "cell_type": "code",
   "execution_count": 3,
   "metadata": {},
   "outputs": [
    {
     "name": "stderr",
     "output_type": "stream",
     "text": [
      "2024-08-01 15:19:30,724:INFO:p21_appendcoloumn:        name  score  attempts qualify  new_column\n",
      "a  Anastasia   12.5         1     yes        True\n",
      "b       Dima    9.0         3      no       False\n",
      "c  Katherine   16.5         2     yes        True\n",
      "d      James    NaN         3      no       False\n",
      "e      Emily    9.0         2      no       False\n",
      "f    Michael   20.0         3     yes        True\n",
      "g    Matthew   14.5         1     yes        True\n",
      "h      Laura    NaN         1      no       False\n",
      "i      Kevin    8.0         2      no        True\n",
      "j      Jonas   19.0         1     yes       False\n"
     ]
    }
   ],
   "source": [
    "def new_column(exam_data, labels):\n",
    "\n",
    "    \"\"\"\n",
    "\n",
    "    description:\n",
    "        This function is used to delete attempts column in the DataFrame.\n",
    "\n",
    "\n",
    "    parameters:\n",
    "        labels(list), exam_data(dict) : labels, exam_data that is going to frame a data frame.\n",
    "            \n",
    "    return:\n",
    "        none\n",
    "\n",
    "    \"\"\"\n",
    "    \n",
    "    df = pd.DataFrame(exam_data, index=labels)\n",
    "    new_col_data = [True, False, True, False, False, True, True, False, True, False]\n",
    "    df['new_column'] = new_col_data\n",
    "    logger.info(df)\n",
    "    \n",
    "def main():\n",
    "    exam_data = {'name': ['Anastasia', 'Dima', 'Katherine', 'James', 'Emily', 'Michael', 'Matthew', 'Laura', 'Kevin', 'Jonas'],\n",
    "                'score': [12.5, 9, 16.5, np.nan, 9, 20, 14.5, np.nan, 8, 19],\n",
    "                'attempts': [1, 3, 2, 3, 2, 3, 1, 1, 2, 1],\n",
    "                'qualify': ['yes', 'no', 'yes', 'no', 'no', 'yes', 'yes', 'no', 'no', 'yes']}\n",
    "    labels = ['a', 'b', 'c', 'd', 'e', 'f', 'g', 'h', 'i', 'j']\n",
    "    new_column(exam_data, labels)\n",
    "\n",
    "\n",
    "if __name__ == \"__main__\":\n",
    "    main()"
   ]
  }
 ],
 "metadata": {
  "kernelspec": {
   "display_name": "Python 3",
   "language": "python",
   "name": "python3"
  },
  "language_info": {
   "codemirror_mode": {
    "name": "ipython",
    "version": 3
   },
   "file_extension": ".py",
   "mimetype": "text/x-python",
   "name": "python",
   "nbconvert_exporter": "python",
   "pygments_lexer": "ipython3",
   "version": "3.11.9"
  }
 },
 "nbformat": 4,
 "nbformat_minor": 2
}
