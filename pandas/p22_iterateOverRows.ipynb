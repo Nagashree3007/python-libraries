{
 "cells": [
  {
   "cell_type": "markdown",
   "metadata": {},
   "source": [
    "'''\n",
    "\n",
    "\n",
    "@Author: Nagashree C R\n",
    "@Date: 2024-07-2024-08-01 \n",
    "@Last Modified by: Nagashree C R\n",
    "@Last Modified: 2024-08-01 \n",
    "@Title :program to iterate over rows in a DataFrame.\n",
    "\n",
    "\n",
    "'''"
   ]
  },
  {
   "cell_type": "code",
   "execution_count": 1,
   "metadata": {},
   "outputs": [],
   "source": [
    "import numpy as np \n",
    "import pandas as pd\n",
    "import loggingfile"
   ]
  },
  {
   "cell_type": "code",
   "execution_count": 2,
   "metadata": {},
   "outputs": [],
   "source": [
    "logger = loggingfile.logger_init(\"p22_iterateOverRows\")"
   ]
  },
  {
   "cell_type": "code",
   "execution_count": 3,
   "metadata": {},
   "outputs": [
    {
     "name": "stderr",
     "output_type": "stream",
     "text": [
      "2024-08-01 15:19:37,624:DEBUG:p22_iterateOverRows:a\n",
      "2024-08-01 15:19:37,626:DEBUG:p22_iterateOverRows:name        Anastasia\n",
      "score            12.5\n",
      "attempts            1\n",
      "qualify           yes\n",
      "Name: a, dtype: object\n",
      "2024-08-01 15:19:37,629:DEBUG:p22_iterateOverRows:b\n",
      "2024-08-01 15:19:37,631:DEBUG:p22_iterateOverRows:name        Dima\n",
      "score        9.0\n",
      "attempts       3\n",
      "qualify       no\n",
      "Name: b, dtype: object\n",
      "2024-08-01 15:19:37,631:DEBUG:p22_iterateOverRows:c\n",
      "2024-08-01 15:19:37,634:DEBUG:p22_iterateOverRows:name        Katherine\n",
      "score            16.5\n",
      "attempts            2\n",
      "qualify           yes\n",
      "Name: c, dtype: object\n",
      "2024-08-01 15:19:37,636:DEBUG:p22_iterateOverRows:d\n",
      "2024-08-01 15:19:37,637:DEBUG:p22_iterateOverRows:name        James\n",
      "score         NaN\n",
      "attempts        3\n",
      "qualify        no\n",
      "Name: d, dtype: object\n",
      "2024-08-01 15:19:37,639:DEBUG:p22_iterateOverRows:e\n",
      "2024-08-01 15:19:37,641:DEBUG:p22_iterateOverRows:name        Emily\n",
      "score         9.0\n",
      "attempts        2\n",
      "qualify        no\n",
      "Name: e, dtype: object\n",
      "2024-08-01 15:19:37,643:DEBUG:p22_iterateOverRows:f\n",
      "2024-08-01 15:19:37,644:DEBUG:p22_iterateOverRows:name        Michael\n",
      "score          20.0\n",
      "attempts          3\n",
      "qualify         yes\n",
      "Name: f, dtype: object\n",
      "2024-08-01 15:19:37,646:DEBUG:p22_iterateOverRows:g\n",
      "2024-08-01 15:19:37,646:DEBUG:p22_iterateOverRows:name        Matthew\n",
      "score          14.5\n",
      "attempts          1\n",
      "qualify         yes\n",
      "Name: g, dtype: object\n",
      "2024-08-01 15:19:37,647:DEBUG:p22_iterateOverRows:h\n",
      "2024-08-01 15:19:37,649:DEBUG:p22_iterateOverRows:name        Laura\n",
      "score         NaN\n",
      "attempts        1\n",
      "qualify        no\n",
      "Name: h, dtype: object\n",
      "2024-08-01 15:19:37,651:DEBUG:p22_iterateOverRows:i\n",
      "2024-08-01 15:19:37,652:DEBUG:p22_iterateOverRows:name        Kevin\n",
      "score         8.0\n",
      "attempts        2\n",
      "qualify        no\n",
      "Name: i, dtype: object\n",
      "2024-08-01 15:19:37,655:DEBUG:p22_iterateOverRows:j\n",
      "2024-08-01 15:19:37,656:DEBUG:p22_iterateOverRows:name        Jonas\n",
      "score        19.0\n",
      "attempts        1\n",
      "qualify       yes\n",
      "Name: j, dtype: object\n"
     ]
    }
   ],
   "source": [
    "def iterate_data(exam_data, labels):\n",
    "\n",
    "    \"\"\"\n",
    "\n",
    "    description:\n",
    "        This function is used to iterate data in the DataFrame.\n",
    "\n",
    "\n",
    "    parameters:\n",
    "        labels(list), exam_data(dict) : labels, exam_data that is going to frame a data frame.\n",
    "            \n",
    "    return:\n",
    "        none\n",
    "\n",
    "    \"\"\"\n",
    "    \n",
    "    df= pd.DataFrame(exam_data, index=labels)\n",
    "    for index, rows in df.iterrows():\n",
    "        logger.debug(index)\n",
    "        logger.debug(rows)\n",
    "    \n",
    "def main():\n",
    "    exam_data = {'name': ['Anastasia', 'Dima', 'Katherine', 'James', 'Emily', 'Michael', 'Matthew', 'Laura', 'Kevin', 'Jonas'],\n",
    "                'score': [12.5, 9, 16.5, np.nan, 9, 20, 14.5, np.nan, 8, 19],\n",
    "                'attempts': [1, 3, 2, 3, 2, 3, 1, 1, 2, 1],\n",
    "                'qualify': ['yes', 'no', 'yes', 'no', 'no', 'yes', 'yes', 'no', 'no', 'yes']}\n",
    "    labels = ['a', 'b', 'c', 'd', 'e', 'f', 'g', 'h', 'i', 'j']\n",
    "    iterate_data(exam_data, labels)\n",
    "\n",
    "\n",
    "if __name__ == \"__main__\":\n",
    "    main()"
   ]
  }
 ],
 "metadata": {
  "kernelspec": {
   "display_name": "Python 3",
   "language": "python",
   "name": "python3"
  },
  "language_info": {
   "codemirror_mode": {
    "name": "ipython",
    "version": 3
   },
   "file_extension": ".py",
   "mimetype": "text/x-python",
   "name": "python",
   "nbconvert_exporter": "python",
   "pygments_lexer": "ipython3",
   "version": "3.11.9"
  }
 },
 "nbformat": 4,
 "nbformat_minor": 2
}
