{
 "cells": [
  {
   "cell_type": "markdown",
   "metadata": {},
   "source": [
    "'''\n",
    "\n",
    "@Author: Nagashree C R  <br>\n",
    "@Date: 2024-08-01  <br>\n",
    "@Last Modified by: Nagashree C R <br>\n",
    "@Last Modified: 2024-08-01  <br> \n",
    "@Title :program to convert a Panda module Series to Python list and it's type.\n",
    "\n",
    "'''"
   ]
  },
  {
   "cell_type": "code",
   "execution_count": 1,
   "metadata": {},
   "outputs": [],
   "source": [
    "import loggingfile\n",
    "import pandas as pd"
   ]
  },
  {
   "cell_type": "code",
   "execution_count": 2,
   "metadata": {},
   "outputs": [],
   "source": [
    "logger = loggingfile.logger_init(\"p2_seriestolist\")"
   ]
  },
  {
   "cell_type": "code",
   "execution_count": 3,
   "metadata": {},
   "outputs": [
    {
     "name": "stderr",
     "output_type": "stream",
     "text": [
      "2024-08-01 15:13:26,747:INFO:p2_seriestolist:Pandas Series and type\n",
      "2024-08-01 15:13:26,747:INFO:p2_seriestolist:\n",
      "0     2\n",
      "1     4\n",
      "2     6\n",
      "3     8\n",
      "4    10\n",
      "dtype: int64\n",
      "2024-08-01 15:13:26,751:INFO:p2_seriestolist:<class 'pandas.core.series.Series'>\n",
      "2024-08-01 15:13:26,751:INFO:p2_seriestolist:Convert Pandas Series to Python list\n",
      "2024-08-01 15:13:26,751:INFO:p2_seriestolist:\n",
      "[2, 4, 6, 8, 10]\n",
      "2024-08-01 15:13:26,751:INFO:p2_seriestolist:<class 'list'>\n"
     ]
    }
   ],
   "source": [
    "ds = pd.Series([2, 4, 6, 8, 10])\n",
    "logger.info(\"Pandas Series and type\")\n",
    "logger.info(f\"\\n{ds}\")\n",
    "logger.info(type(ds))\n",
    "logger.info(\"Convert Pandas Series to Python list\")\n",
    "logger.info(f\"\\n{ds.tolist()}\")\n",
    "logger.info(type(ds.tolist()))"
   ]
  }
 ],
 "metadata": {
  "kernelspec": {
   "display_name": "Python 3",
   "language": "python",
   "name": "python3"
  },
  "language_info": {
   "codemirror_mode": {
    "name": "ipython",
    "version": 3
   },
   "file_extension": ".py",
   "mimetype": "text/x-python",
   "name": "python",
   "nbconvert_exporter": "python",
   "pygments_lexer": "ipython3",
   "version": "3.11.9"
  }
 },
 "nbformat": 4,
 "nbformat_minor": 2
}
