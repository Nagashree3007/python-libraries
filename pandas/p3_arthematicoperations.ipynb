{
 "cells": [
  {
   "cell_type": "markdown",
   "metadata": {},
   "source": [
    "'''\n",
    "\n",
    "@Author: Nagashree C R  <br>\n",
    "@Date: 2024-08-01  <br>\n",
    "@Last Modified by: Nagashree C R <br>\n",
    "@Last Modified: 2024-08-01  <br>\n",
    "@Title :program to add, subtract, multiple and divide two Pandas Series.\n",
    "\n",
    "'''"
   ]
  },
  {
   "cell_type": "code",
   "execution_count": 1,
   "metadata": {},
   "outputs": [],
   "source": [
    "import loggingfile\n",
    "import pandas as pd"
   ]
  },
  {
   "cell_type": "code",
   "execution_count": 2,
   "metadata": {},
   "outputs": [],
   "source": [
    "logger = loggingfile.logger_init(\"p3_arthematicoperations\")"
   ]
  },
  {
   "cell_type": "code",
   "execution_count": 3,
   "metadata": {},
   "outputs": [
    {
     "name": "stderr",
     "output_type": "stream",
     "text": [
      "2024-08-01 15:13:40,226:DEBUG:p3_arthematicoperations:Add two Series:\n",
      "2024-08-01 15:13:40,226:DEBUG:p3_arthematicoperations:\n",
      "0     3\n",
      "1     7\n",
      "2    11\n",
      "3    15\n",
      "4    19\n",
      "dtype: int64\n",
      "2024-08-01 15:13:40,229:DEBUG:p3_arthematicoperations:Subtract two Series:\n",
      "2024-08-01 15:13:40,231:DEBUG:p3_arthematicoperations:\n",
      "0    1\n",
      "1    1\n",
      "2    1\n",
      "3    1\n",
      "4    1\n",
      "dtype: int64\n",
      "2024-08-01 15:13:40,232:DEBUG:p3_arthematicoperations:Multiply two Series:\n",
      "2024-08-01 15:13:40,234:DEBUG:p3_arthematicoperations:\n",
      "0     2\n",
      "1    12\n",
      "2    30\n",
      "3    56\n",
      "4    90\n",
      "dtype: int64\n",
      "2024-08-01 15:13:40,235:DEBUG:p3_arthematicoperations:Divide Series1 by Series2:\n",
      "2024-08-01 15:13:40,243:DEBUG:p3_arthematicoperations:\n",
      "0    2.000000\n",
      "1    1.333333\n",
      "2    1.200000\n",
      "3    1.142857\n",
      "4    1.111111\n",
      "dtype: float64\n"
     ]
    }
   ],
   "source": [
    "ds1 = pd.Series([2, 4, 6, 8, 10])\n",
    "ds2 = pd.Series([1, 3, 5, 7, 9])\n",
    "ds = ds1 + ds2\n",
    "logger.debug(\"Add two Series:\")\n",
    "logger.debug(f\"\\n{ds}\")\n",
    "logger.debug(\"Subtract two Series:\")\n",
    "ds = ds1 - ds2\n",
    "logger.debug(f\"\\n{ds}\")\n",
    "logger.debug(\"Multiply two Series:\")\n",
    "ds = ds1 * ds2\n",
    "logger.debug(f\"\\n{ds}\")\n",
    "logger.debug(\"Divide Series1 by Series2:\")\n",
    "ds = ds1 / ds2\n",
    "logger.debug(f\"\\n{ds}\")"
   ]
  }
 ],
 "metadata": {
  "kernelspec": {
   "display_name": "Python 3",
   "language": "python",
   "name": "python3"
  },
  "language_info": {
   "codemirror_mode": {
    "name": "ipython",
    "version": 3
   },
   "file_extension": ".py",
   "mimetype": "text/x-python",
   "name": "python",
   "nbconvert_exporter": "python",
   "pygments_lexer": "ipython3",
   "version": "3.11.9"
  }
 },
 "nbformat": 4,
 "nbformat_minor": 2
}
