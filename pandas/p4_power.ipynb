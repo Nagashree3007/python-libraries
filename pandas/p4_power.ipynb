{
 "cells": [
  {
   "cell_type": "markdown",
   "metadata": {},
   "source": [
    "'''\n",
    "\n",
    "\n",
    "@Author: Nagashree C R\n",
    "@Date: 2024-08-01 \n",
    "@Last Modified by: Nagashree C R\n",
    "@Last Modified: 2024-08-01 \n",
    "@Title :program to get the powers of an array values element-wise.\n",
    "\n",
    "\n",
    "'''"
   ]
  },
  {
   "cell_type": "code",
   "execution_count": 1,
   "metadata": {},
   "outputs": [],
   "source": [
    "import loggingfile\n",
    "import numpy as np\n",
    "import pandas as pd"
   ]
  },
  {
   "cell_type": "code",
   "execution_count": 2,
   "metadata": {},
   "outputs": [],
   "source": [
    "logger = loggingfile.logger_init(\"p4_powers\")"
   ]
  },
  {
   "cell_type": "code",
   "execution_count": 3,
   "metadata": {},
   "outputs": [
    {
     "name": "stderr",
     "output_type": "stream",
     "text": [
      "2024-08-01 15:14:34,312:INFO:p4_powers:[  0   1   8  27  64 125 216]\n"
     ]
    }
   ],
   "source": [
    "ds=[0,1,2,3,4,5,6]\n",
    "ds=pd.Series(ds)\n",
    "result=ds**3\n",
    "logger.info(np.array(result))"
   ]
  },
  {
   "cell_type": "code",
   "execution_count": 4,
   "metadata": {},
   "outputs": [
    {
     "name": "stderr",
     "output_type": "stream",
     "text": [
      "2024-08-01 15:14:53,306:INFO:p4_powers:[  0   1   8  27  64 125 216]\n"
     ]
    }
   ],
   "source": [
    "#original array\n",
    "original=list(map(int,input(\"enter the array elements\").split(\",\")))\n",
    "#coverting to array\n",
    "original=np.array(original)\n",
    "result=np.power(original,3)\n",
    "logger.info(result)"
   ]
  },
  {
   "cell_type": "code",
   "execution_count": 5,
   "metadata": {},
   "outputs": [
    {
     "name": "stdout",
     "output_type": "stream",
     "text": [
      "Original array:\n",
      "[0 1 2 3 4 5 6]\n",
      "\n",
      "First array elements raised to powers from second array, element-wise:\n",
      "[  1   1   8  27  64 125 216]\n"
     ]
    }
   ],
   "source": [
    "base_array = pd.Series([0, 1, 2, 3, 4, 5, 6])\n",
    "exponent_array = pd.Series([0, 1, 3, 3, 3, 3, 3])\n",
    "\n",
    "# Compute element-wise power\n",
    "result = base_array ** exponent_array\n",
    "\n",
    "# Print results\n",
    "print(\"Original array:\")\n",
    "print(base_array.to_numpy())\n",
    "\n",
    "print(\"\\nFirst array elements raised to powers from second array, element-wise:\")\n",
    "print(result.to_numpy())"
   ]
  }
 ],
 "metadata": {
  "kernelspec": {
   "display_name": "Python 3",
   "language": "python",
   "name": "python3"
  },
  "language_info": {
   "codemirror_mode": {
    "name": "ipython",
    "version": 3
   },
   "file_extension": ".py",
   "mimetype": "text/x-python",
   "name": "python",
   "nbconvert_exporter": "python",
   "pygments_lexer": "ipython3",
   "version": "3.11.9"
  }
 },
 "nbformat": 4,
 "nbformat_minor": 2
}
